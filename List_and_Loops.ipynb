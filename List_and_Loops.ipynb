{
 "cells": [
  {
   "cell_type": "markdown",
   "metadata": {},
   "source": [
    "<h1><center><ins>Lists and Loops</ins></center></h1>\n"
   ]
  },
  {
   "cell_type": "markdown",
   "metadata": {},
   "source": [
    "<div class = \"alert alert-block alert-info\">\n",
    "\n",
    "<h3><center><ins>Background</ins></center></h3>\n",
    "    \n",
    "> As a Bioinformaticist/Bioinformatician, you will almost certainly be dealing with Big Data. \n",
    "\n",
    "> Data that is too big to be stored in an Excel file.\n",
    "\n",
    "> And data that has to be parsed very quickly without our file or system freezing.\n",
    "\n",
    "> At the same time, you will very often have to read multiple sets of data, which may be stored in multiple files or data structures (lists, dictionaries, sets, tuples, etc.).\n",
    "\n",
    "> The process of reading over multiple sets of data, is called **looping.**\n",
    "\n",
    "> And a data-type/structure often used by Bioinformaticians are **lists** - which we will be looking at today.\n",
    "\n",
    "> Together, these two allow us to automate a lot of processess.\n",
    "\n",
    "> For example, you may want to scan through all the SNPs in one file belonging to a participant\n",
    "\n",
    "> And match it to those of another participant, in a different file, to find common SNPs (**see below**).\n",
    "\n",
    "**<center>File 1</center>** \n",
    "\n",
    "|        Gene              |                 SNP          |\n",
    "|--------------------      |------------------------------|                \n",
    "|    <center>TP53</center> | <center>**rs54** </center>   |\n",
    "|    <center>TP53</center> | <center>rs111<center>        |    \n",
    "|    <center>TP53</center> | <center>rs1081</center>      | \n",
    "|    <center>TP53</center> | <center>**rs5099** </center> |  \n",
    "    \n",
    "<br><br>    \n",
    "**<center>File 2</center>** \n",
    "\n",
    "| Gene                 |          SNP                     |\n",
    "|--------------------  |----------------------------------|                \n",
    "|<center>TP53</center> |  <center>rs19</center>           |\n",
    "|<center>TP53</center> | <center>**rs54**</center>        |  \n",
    "|<center>TP53</center> | <center>**rs5099** </center>     |\n",
    "|<center>TP53</center> | <center>rs7878</center>          |  \n",
    "    \n",
    "\n",
    "> This is fine to do manuually if the files contain only three lines each\n",
    "\n",
    "> But it becomes way more problematic if you have thousands of lines or more - which is oftent the case in Biology.\n",
    "\n",
    "\n"
   ]
  },
  {
   "cell_type": "markdown",
   "metadata": {},
   "source": [
    "<h2><center><ins>What are lists?</ins></center></h2>"
   ]
  },
  {
   "cell_type": "markdown",
   "metadata": {},
   "source": [
    "<div class = \"alert alert-block alert-info\">\n",
    "    \n",
    "   \n",
    "\n",
    "> A data type/data structure often used by Bioinformaticians are **lists** \n",
    "\n",
    "> Lists allow us to store multiple pieces of data in one variable name, which we can easily accessed or teased out, using some of the **methods** that belong to lists.\n",
    "\n",
    "> They may contain integers, floats, strings, Booleans, or even other lists, or more complicated data types  \n",
    "\n",
    "> Lists can be recognized by their square brackets.\n",
    "\n",
    "> For example, you may have a list containing all the SNPs of participant 1\n",
    "\n",
    "\n",
    "> E.g. **`Participant_1_SNPs = [\"rs54\", \"rs111\", \"rs1081\", \"rs7878\"]`**\n",
    "\n",
    "> Each SNP in the list would be called an **element** of that list\n",
    "\n",
    "> Elements are separated by commas\n",
    "\n",
    "> An empty list looks like this \n",
    "\n",
    "> **`empty_list = [ ]`**\n",
    "\n"
   ]
  },
  {
   "cell_type": "markdown",
   "metadata": {},
   "source": [
    "<h2><center><ins>List Indexing</ins></center></h2>"
   ]
  },
  {
   "cell_type": "markdown",
   "metadata": {},
   "source": [
    "<div class = \"alert alert-block alert-info\">\n",
    "\n",
    "\n",
    "> If you wish to access an **element** in the list\n",
    "\n",
    "> You may do so by using **indexing**\n",
    "\n",
    "> Remember from **strings**, that in Python, indexing starts at **0** \n",
    "\n",
    "> So for the list **`Participant_1_SNPs = [\"rs54\", \"rs111\", \"rs1081\", \"rs7878\"]`**\n",
    "\n",
    "> The SNP **rs54**, is **element 1**\n",
    "\n"
   ]
  },
  {
   "cell_type": "markdown",
   "metadata": {},
   "source": [
    "<div class = \"alert alert-block alert-danger\">\n",
    "\n",
    "<h2>Is that correct?</h2>"
   ]
  },
  {
   "cell_type": "markdown",
   "metadata": {},
   "source": [
    "\n",
    "> ***NO***\n",
    "\n",
    "> SNP **rs54**, should be **element 0**"
   ]
  },
  {
   "cell_type": "markdown",
   "metadata": {},
   "source": [
    "<div class = \"alert alert-block alert-info\">\n",
    "\n",
    "> To have access to an element in the list, for whatever reason (maybe to print it), you give the **list name**, followed by **square brackets** and the **index number** that corresponds to the element in your list\n",
    "\n",
    "> For example, if we want the first **element**, which is SNP **rs54** in this case, we write:\n",
    "\n",
    "> `Participant_1_SNPs[0]`\n",
    "\n",
    "> If we want to print this to STDOUT:\n",
    "\n",
    "> `print (Participant_1_SNPs[0])`\n",
    "\n",
    "> Similarly, the last element in the list named `Participant_1_SNPs`, is **rs7878**\n",
    "\n",
    "> Which corresponds to `Participant_1_SNPs [3]`?\n",
    "\n",
    "> OR\n",
    "\n",
    ">                      `Participant_1_SNPs [-1]`\n"
   ]
  },
  {
   "cell_type": "code",
   "execution_count": 8,
   "metadata": {},
   "outputs": [
    {
     "name": "stdout",
     "output_type": "stream",
     "text": [
      "['rs111', 'rs1081']\n"
     ]
    }
   ],
   "source": [
    "# You may also splice out multiple elements\n",
    "Participant_1_SNPs = [\"rs54\", \"rs111\", \"rs1081\", \"rs7878\"]\n",
    "snps_2_and_3 = Participant_1_SNPs[1:3]\n",
    "# 1<= SNP < 3\n",
    "\n",
    "print(snps_2_and_3) # you will see that it maintains the data type = lists"
   ]
  },
  {
   "cell_type": "markdown",
   "metadata": {},
   "source": [
    "<div class = \"alert alert-block alert-info\">\n",
    "\n",
    "> But lists also have a method to retrieve the position of an element\n",
    "\n",
    "> It's called the **`.index ()`** method\n",
    "\n",
    "> E.g. if you know that the SNP **rs111** is in your list, and you want to know where it is,\n",
    "\n",
    "> You may use: **`Participant_1_SNPs.index(\"rs111\")`**\n"
   ]
  },
  {
   "cell_type": "code",
   "execution_count": null,
   "metadata": {},
   "outputs": [],
   "source": [
    "Participant_1_SNPs = [\"rs54\", \"rs111\", \"rs1081\", \"rs7878\"]\n",
    "\n",
    "Participant_1_SNPs.index(\"rs111\")"
   ]
  },
  {
   "cell_type": "markdown",
   "metadata": {},
   "source": [
    "<h2><center><ins>Adding elements to a list</ins></center></h2>"
   ]
  },
  {
   "cell_type": "markdown",
   "metadata": {},
   "source": [
    "<div class = \"alert alert-block alert-info\">\n",
    "    \n",
    "> One of the technical jargon words that you'll often here with lists, is that they are **mutable**\n",
    "\n",
    "> This is just a nerdy way of saying, that they can be changed without needing to create a new variable/list name to store the newly changed list\n",
    "\n",
    "> You can change a list at any time by **adding**,**removing,** or **changing** objects/elements.\n",
    "\n",
    "> Let's say you discovered a new SNP that needs to be added to Participant 1's list\n",
    "\n",
    "> You will then use the built-in list method called\n",
    "\n",
    "> **`.append( )`**\n",
    "\n",
    "> Appending adds the new element to the **END** of the list. That is, **`your_list[-1]`**"
   ]
  },
  {
   "cell_type": "code",
   "execution_count": 9,
   "metadata": {},
   "outputs": [
    {
     "name": "stdout",
     "output_type": "stream",
     "text": [
      "['rs54', 'rs111', 'rs1081', 'rs7878']\n",
      "4\n"
     ]
    }
   ],
   "source": [
    "Participant_1_SNPs = [\"rs54\", \"rs111\", \"rs1081\", \"rs7878\"]\n",
    "\n",
    "print (Participant_1_SNPs)\n",
    "\n",
    "print (len(Participant_1_SNPs)) # we can also check the length to double-check if the list is growing"
   ]
  },
  {
   "cell_type": "code",
   "execution_count": 10,
   "metadata": {},
   "outputs": [
    {
     "name": "stdout",
     "output_type": "stream",
     "text": [
      "['rs54', 'rs111', 'rs1081', 'rs7878', 'rs9999']\n",
      "5\n"
     ]
    }
   ],
   "source": [
    "# To add SNP rs9999 to the list Participant_1_SNPs\n",
    "Participant_1_SNPs.append(\"rs9999\")\n",
    "\n",
    "print (Participant_1_SNPs) #can you see new the element is at the end\n",
    "print (len(Participant_1_SNPs))"
   ]
  },
  {
   "cell_type": "markdown",
   "metadata": {},
   "source": [
    "<div class = \"alert alert-block alert-info\">\n",
    "\n",
    "> You can also add lists together\n",
    "\n",
    "> Let's create three lists, and add them, and see what happens"
   ]
  },
  {
   "cell_type": "code",
   "execution_count": 11,
   "metadata": {},
   "outputs": [
    {
     "name": "stdout",
     "output_type": "stream",
     "text": [
      "['ATGATTCGCC', 'GGGCCTAA', 'ATCCNTT', 5, 9041.21, 7984512, True, True, False]\n"
     ]
    }
   ],
   "source": [
    "dna_sequences =['ATGATTCGCC', 'GGGCCTAA', 'ATCCNTT'] #strings\n",
    "positions = [5, 9041.21, 7984512] # integers and floats\n",
    "booleans = [True, True, False] # booleans\n",
    "\n",
    "mixed_list  =  dna_sequences + positions + booleans \n",
    "\n",
    "print(mixed_list)"
   ]
  },
  {
   "cell_type": "code",
   "execution_count": 12,
   "metadata": {},
   "outputs": [
    {
     "name": "stdout",
     "output_type": "stream",
     "text": [
      "['ATGATTCGCC', 'GGGCCTAA', 'ATCCNTT', 5, 9041.21, 7984512, True, True, False, [10.2, 78, 45, 99.9974]]\n"
     ]
    }
   ],
   "source": [
    "# let's create a new list and append it to `mixed_lists`\n",
    "\n",
    "IDs = [10.2, 78,45, 99.9974]\n",
    "\n",
    "mixed_list.append(IDs)\n",
    "\n",
    "print(mixed_list)\n"
   ]
  },
  {
   "cell_type": "markdown",
   "metadata": {},
   "source": [
    "<div class = \"alert alert-block alert-info\">\n",
    "\n",
    "> I want you to notice something\n",
    "\n",
    "> Firstly, when you use the **`append ()`** method, it may not do exactly what you intended, if your goal was to add each element to the list individually\n",
    "\n",
    "> For that, it may be better to just concatenate the lists (using the **`+`**), or by using the method we will discuss next \n",
    "\n",
    "> Lastly, if you keep running the block above, check what happens to the list - this is PART of what we mean, when we say that lists are **mutable**\n",
    "\n"
   ]
  },
  {
   "cell_type": "markdown",
   "metadata": {},
   "source": [
    "<h2><center><ins>Quick Hands-on exercise</ins></center></h2>"
   ]
  },
  {
   "cell_type": "markdown",
   "metadata": {},
   "source": [
    "**Exercise 1**\n",
    "\n",
    "> Create an empty list and call it **foods**\n",
    "\n",
    "> Then populate the list with **three** of your favourite foods or types of cuisine\n",
    "\n",
    "> **print** your list **before and after** you added your elements"
   ]
  },
  {
   "cell_type": "code",
   "execution_count": 13,
   "metadata": {},
   "outputs": [
    {
     "name": "stdout",
     "output_type": "stream",
     "text": [
      "[]\n",
      "['thai food', 'sushi', 'italian']\n"
     ]
    }
   ],
   "source": [
    "foods = []\n",
    "print(foods)\n",
    "foods.append(\"thai food\")\n",
    "foods.append(\"sushi\")\n",
    "foods.append(\"italian\")\n",
    "print(foods)"
   ]
  },
  {
   "cell_type": "markdown",
   "metadata": {},
   "source": [
    "<div class = \"alert alert-block alert-info\">\n",
    "    \n",
    "> Now let's go back to the list called **mixed_list**\n",
    "\n",
    "> If your intention was to add each element in the list called **ID** to the list called **mixed_list**, then apart from using normal concatenation, you may also use the\n",
    "\n",
    "> **`.extend ( )`** method\n",
    "\n",
    "> Extending, also adds the elements to the **end** of the list\n",
    "\n",
    "> Note that this changes the list called **mixed lists**, it does not create a new list"
   ]
  },
  {
   "cell_type": "code",
   "execution_count": 14,
   "metadata": {},
   "outputs": [
    {
     "name": "stdout",
     "output_type": "stream",
     "text": [
      "['ATGATTCGCC', 'GGGCCTAA', 'ATCCNTT', 5, 9041, 7984512, True, True, False, 10.2, 78, 45, 99.9974]\n"
     ]
    }
   ],
   "source": [
    "# Note that this works , because this block run the lists afresh\n",
    "# So we've reassigned all the lists and their elements\n",
    "\n",
    "dna_sequences =['ATGATTCGCC', 'GGGCCTAA', 'ATCCNTT']\n",
    "positions = [5, 9041, 7984512]\n",
    "booleans = [True, True, False]\n",
    "\n",
    "mixed_list  =  dna_sequences + positions + booleans\n",
    "# print(mixed_list)\n",
    "\n",
    "\n",
    "IDs = [10.2, 78,45, 99.9974]\n",
    "mixed_list.extend(IDs)\n",
    "print(mixed_list)\n",
    "\n"
   ]
  },
  {
   "cell_type": "markdown",
   "metadata": {},
   "source": [
    "<h2><center><ins>Quick Hands-on exercise</ins></center></h2>"
   ]
  },
  {
   "cell_type": "markdown",
   "metadata": {},
   "source": [
    "**Exercise 2**\n",
    "\n",
    "> You have your list called foods and you want to add the items from the list called, \n",
    "\n",
    "> `drinks = [\"coffee\", \"cappuccino\", \"flat white\", \"smoothie\", \"sweet red wine\"]`\n",
    "\n",
    "> If you don't want to add this one at a time using `.append()`, which method(s) can you use?"
   ]
  },
  {
   "cell_type": "code",
   "execution_count": 15,
   "metadata": {},
   "outputs": [
    {
     "name": "stdout",
     "output_type": "stream",
     "text": [
      "['thai food', 'sushi', 'italian', 'coffee', 'cappuccino', 'flat white', 'smoothie', 'sweet red wine']\n"
     ]
    }
   ],
   "source": [
    "foods = ['thai food', 'sushi', 'italian']\n",
    "drinks = [\"coffee\", \"cappuccino\", \"flat white\", \"smoothie\", \"sweet red wine\"]\n",
    "\n",
    "\n",
    "foods = foods + drinks\n",
    "\n",
    "print (foods)"
   ]
  },
  {
   "cell_type": "code",
   "execution_count": 16,
   "metadata": {},
   "outputs": [
    {
     "name": "stdout",
     "output_type": "stream",
     "text": [
      "['thai food', 'sushi', 'italian', 'coffee', 'cappuccino', 'flat white', 'smoothie', 'sweet red wine']\n"
     ]
    }
   ],
   "source": [
    "foods = ['thai food', 'sushi', 'italian']\n",
    "drinks = [\"coffee\", \"cappuccino\", \"flat white\", \"smoothie\", \"sweet red wine\"]\n",
    "\n",
    "foods.extend(drinks)\n",
    "print (foods)"
   ]
  },
  {
   "cell_type": "markdown",
   "metadata": {},
   "source": [
    "<div class = \"alert alert-block alert-danger\">\n",
    "\n",
    "> Note that with concatenation, you can create a new list by adding the two list\n",
    "\n",
    "> But with `.extend ()`, you cannot create a new list"
   ]
  },
  {
   "cell_type": "code",
   "execution_count": 17,
   "metadata": {},
   "outputs": [
    {
     "name": "stdout",
     "output_type": "stream",
     "text": [
      "['thai food', 'sushi', 'italian', 'coffee', 'cappuccino', 'flat white', 'smoothie', 'wine']\n"
     ]
    }
   ],
   "source": [
    "# this will work\n",
    "\n",
    "foods = ['thai food', 'sushi', 'italian']\n",
    "drinks = [\"coffee\", \"cappuccino\", \"flat white\", \"smoothie\", \"wine\"]\n",
    "\n",
    "foods_and_drinks = foods + drinks\n",
    "\n",
    "print (foods_and_drinks )"
   ]
  },
  {
   "cell_type": "code",
   "execution_count": 18,
   "metadata": {},
   "outputs": [
    {
     "name": "stdout",
     "output_type": "stream",
     "text": [
      "None\n"
     ]
    }
   ],
   "source": [
    "# this will NOT work\n",
    "\n",
    "foods = ['thai food', 'sushi', 'italian']\n",
    "drinks = [\"coffee\", \"cappuccino\", \"flat white\", \"smoothie\", \"wine\"]\n",
    "\n",
    "foods_and_drinks  = foods.extend(drinks)\n",
    "print (foods_and_drinks )"
   ]
  },
  {
   "cell_type": "markdown",
   "metadata": {},
   "source": [
    "<h2><center><ins>Sorting and Reversing</ins></center></h2>"
   ]
  },
  {
   "cell_type": "markdown",
   "metadata": {},
   "source": [
    "<div class = \"alert alert-block alert-info\">\n",
    "    \n",
    "> Lists come with many of their own methods\n",
    "\n",
    "> Don't forget that you can use the **`help(list)`** function to see all the things you can do with lists\n",
    "\n",
    "> We will look at two more now\n",
    "\n",
    "> The **`.reverse ()`** and the **`.sort ()`** methods, are quite intuitive\n",
    "\n",
    "> **`.reverse ()`**  takes no argument\n",
    "\n",
    "> With **`.sort ()`**, you may give no argument, or you may use two optional arguments (**key** and **reverse = True**)\n",
    "\n",
    "> The **`.sort ()`** method arranges the list in **alphabetical order** if the elements are **strings**\n",
    "\n",
    "> And **ascending numberical order** when the elements are **numbers** (1,2,3,4,5,6...)"
   ]
  },
  {
   "cell_type": "code",
   "execution_count": 19,
   "metadata": {},
   "outputs": [
    {
     "name": "stdout",
     "output_type": "stream",
     "text": [
      "['Gorilla gorilla', 'Pan troglodytes', 'Homo sapiens']\n",
      "['Homo sapiens', 'Pan troglodytes', 'Gorilla gorilla']\n"
     ]
    }
   ],
   "source": [
    "# This time, let's use the list from the book\n",
    "\n",
    "apes = [\"Gorilla gorilla\", \"Pan troglodytes\",  \"Homo sapiens\"]\n",
    "print(apes)\n",
    "\n",
    "# Let's say you don't like the order of this list, \n",
    "# because you believe that humans should sit at the top of the hierarchy\n",
    "\n",
    "# You may use the .reverse () method\n",
    "\n",
    "apes.reverse()\n",
    "print(apes)\n"
   ]
  },
  {
   "cell_type": "code",
   "execution_count": 20,
   "metadata": {},
   "outputs": [
    {
     "name": "stdout",
     "output_type": "stream",
     "text": [
      "['Gorilla gorilla', 'Homo sapiens', 'Pan troglodytes']\n"
     ]
    }
   ],
   "source": [
    "# the .sort () method arranges the list in alphabetical order if the elements are strings\n",
    "# and ascending numberical order when the elements are numbers\n",
    "apes.sort()\n",
    "print(apes)"
   ]
  },
  {
   "cell_type": "code",
   "execution_count": 21,
   "metadata": {},
   "outputs": [
    {
     "name": "stdout",
     "output_type": "stream",
     "text": [
      "Help on class list in module builtins:\n",
      "\n",
      "class list(object)\n",
      " |  list(iterable=(), /)\n",
      " |  \n",
      " |  Built-in mutable sequence.\n",
      " |  \n",
      " |  If no argument is given, the constructor creates a new empty list.\n",
      " |  The argument must be an iterable if specified.\n",
      " |  \n",
      " |  Methods defined here:\n",
      " |  \n",
      " |  __add__(self, value, /)\n",
      " |      Return self+value.\n",
      " |  \n",
      " |  __contains__(self, key, /)\n",
      " |      Return key in self.\n",
      " |  \n",
      " |  __delitem__(self, key, /)\n",
      " |      Delete self[key].\n",
      " |  \n",
      " |  __eq__(self, value, /)\n",
      " |      Return self==value.\n",
      " |  \n",
      " |  __ge__(self, value, /)\n",
      " |      Return self>=value.\n",
      " |  \n",
      " |  __getattribute__(self, name, /)\n",
      " |      Return getattr(self, name).\n",
      " |  \n",
      " |  __getitem__(...)\n",
      " |      x.__getitem__(y) <==> x[y]\n",
      " |  \n",
      " |  __gt__(self, value, /)\n",
      " |      Return self>value.\n",
      " |  \n",
      " |  __iadd__(self, value, /)\n",
      " |      Implement self+=value.\n",
      " |  \n",
      " |  __imul__(self, value, /)\n",
      " |      Implement self*=value.\n",
      " |  \n",
      " |  __init__(self, /, *args, **kwargs)\n",
      " |      Initialize self.  See help(type(self)) for accurate signature.\n",
      " |  \n",
      " |  __iter__(self, /)\n",
      " |      Implement iter(self).\n",
      " |  \n",
      " |  __le__(self, value, /)\n",
      " |      Return self<=value.\n",
      " |  \n",
      " |  __len__(self, /)\n",
      " |      Return len(self).\n",
      " |  \n",
      " |  __lt__(self, value, /)\n",
      " |      Return self<value.\n",
      " |  \n",
      " |  __mul__(self, value, /)\n",
      " |      Return self*value.\n",
      " |  \n",
      " |  __ne__(self, value, /)\n",
      " |      Return self!=value.\n",
      " |  \n",
      " |  __repr__(self, /)\n",
      " |      Return repr(self).\n",
      " |  \n",
      " |  __reversed__(self, /)\n",
      " |      Return a reverse iterator over the list.\n",
      " |  \n",
      " |  __rmul__(self, value, /)\n",
      " |      Return value*self.\n",
      " |  \n",
      " |  __setitem__(self, key, value, /)\n",
      " |      Set self[key] to value.\n",
      " |  \n",
      " |  __sizeof__(self, /)\n",
      " |      Return the size of the list in memory, in bytes.\n",
      " |  \n",
      " |  append(self, object, /)\n",
      " |      Append object to the end of the list.\n",
      " |  \n",
      " |  clear(self, /)\n",
      " |      Remove all items from list.\n",
      " |  \n",
      " |  copy(self, /)\n",
      " |      Return a shallow copy of the list.\n",
      " |  \n",
      " |  count(self, value, /)\n",
      " |      Return number of occurrences of value.\n",
      " |  \n",
      " |  extend(self, iterable, /)\n",
      " |      Extend list by appending elements from the iterable.\n",
      " |  \n",
      " |  index(self, value, start=0, stop=9223372036854775807, /)\n",
      " |      Return first index of value.\n",
      " |      \n",
      " |      Raises ValueError if the value is not present.\n",
      " |  \n",
      " |  insert(self, index, object, /)\n",
      " |      Insert object before index.\n",
      " |  \n",
      " |  pop(self, index=-1, /)\n",
      " |      Remove and return item at index (default last).\n",
      " |      \n",
      " |      Raises IndexError if list is empty or index is out of range.\n",
      " |  \n",
      " |  remove(self, value, /)\n",
      " |      Remove first occurrence of value.\n",
      " |      \n",
      " |      Raises ValueError if the value is not present.\n",
      " |  \n",
      " |  reverse(self, /)\n",
      " |      Reverse *IN PLACE*.\n",
      " |  \n",
      " |  sort(self, /, *, key=None, reverse=False)\n",
      " |      Stable sort *IN PLACE*.\n",
      " |  \n",
      " |  ----------------------------------------------------------------------\n",
      " |  Static methods defined here:\n",
      " |  \n",
      " |  __new__(*args, **kwargs) from builtins.type\n",
      " |      Create and return a new object.  See help(type) for accurate signature.\n",
      " |  \n",
      " |  ----------------------------------------------------------------------\n",
      " |  Data and other attributes defined here:\n",
      " |  \n",
      " |  __hash__ = None\n",
      "\n"
     ]
    }
   ],
   "source": [
    "help(list)"
   ]
  },
  {
   "cell_type": "code",
   "execution_count": 3,
   "metadata": {},
   "outputs": [
    {
     "name": "stdout",
     "output_type": "stream",
     "text": [
      "['Gorilla gorilla', 'Pan troglodytes', 'Homo sapiens']\n",
      "15\n",
      "15\n",
      "12\n"
     ]
    }
   ],
   "source": [
    "apes = [\"Gorilla gorilla\", \"Pan troglodytes\",  \"Homo sapiens\"]\n",
    "apes.sort(key = len, reverse = True)\n",
    "\n",
    "print(apes)\n",
    "\n",
    "# since \"Gorilla gorilla\" and \"Pan troglodytes\" are of equal length, \n",
    "# it sorted it alphabeticlly after it sorted it by length \n",
    "\n",
    "print(len(\"Gorilla gorilla\"))\n",
    "print(len(\"Pan troglodytes\"))\n",
    "print(len(\"Homo sapiens\"))\n"
   ]
  },
  {
   "cell_type": "markdown",
   "metadata": {},
   "source": [
    "<div class = \"alert alert-block alert-info\">\n",
    "\n",
    "> In the last two blocks you can really see how **mutable** lists are\n",
    "\n",
    "> In both cases, when we printed **apes** again, it just modified the existing list and we didn't need to assign it to a new variable for the change to be effective"
   ]
  },
  {
   "cell_type": "markdown",
   "metadata": {},
   "source": [
    "> **Strings are immutable** OR they cannot be changed\n",
    "\n",
    "> You'll just be changing the content stored in the variable\n",
    "\n"
   ]
  },
  {
   "cell_type": "code",
   "execution_count": 22,
   "metadata": {},
   "outputs": [
    {
     "name": "stdout",
     "output_type": "stream",
     "text": [
      "This is my memory address: 139765417253568\n",
      "This is my memory address: 139765420863920\n",
      "This is my memory address: 139765417276744\n",
      "This is my memory address: 139765417276744\n"
     ]
    }
   ],
   "source": [
    "string = '\"Gorilla gorilla\", \"Pan troglodytes\",  \"Homo sapiens\"'\n",
    "# print(string)\n",
    "print(\"This is my memory address:\", id(string))\n",
    "\n",
    "string = '\"Gorilla gorilla\", \"Pan troglodytes\",  \"Homo sapiens\"' + ', \"Macaca Fascicularis\"'\n",
    "# print(string)\n",
    "print(\"This is my memory address:\", id(string))\n",
    "\n",
    "lists = [\"Gorilla gorilla\", \"Pan troglodytes\",  \"Homo sapiens\"]\n",
    "# print(lists)\n",
    "print(\"This is my memory address:\", id(lists))\n",
    "\n",
    "lists.append(\"Macaca Fascicularis\")\n",
    "# print(lists)\n",
    "print(\"This is my memory address:\", id(lists))\n",
    "\n",
    "\n",
    "# it's a bit difficult to see but with \"strings\", you've basically overwritten the initial\n",
    "# variable name called \"strings\", and created a new one also called \"strings\"\n",
    "\n",
    "# but with \"lists\", you've JUST modified the content of the initial variable name \"lists\"\n"
   ]
  },
  {
   "cell_type": "code",
   "execution_count": 23,
   "metadata": {},
   "outputs": [
    {
     "name": "stdout",
     "output_type": "stream",
     "text": [
      "None\n"
     ]
    }
   ],
   "source": [
    "# this is why THIS will not work\n",
    "lists = [\"Gorilla gorilla\", \"Pan troglodytes\",  \"Homo sapiens\"]\n",
    "\n",
    "lists = lists.append(\"Macaca Fascicularis\") \n",
    "print(lists)\n"
   ]
  },
  {
   "cell_type": "code",
   "execution_count": 24,
   "metadata": {},
   "outputs": [
    {
     "name": "stdout",
     "output_type": "stream",
     "text": [
      "['Gorilla gorilla', 'Pan troglodytes', 'Homo sapiens']\n",
      "['Gorilla gorilla', 'Pan troglodytes', 'Homo sapiens', 'new_species']\n",
      "['Gorilla gorilla', 'Pan troglodytes', 'Homo sapiens', 'new_species']\n"
     ]
    }
   ],
   "source": [
    "# If you change the list name, will it still be the same list?\n",
    "\n",
    "# Or did you create a copy of the list that you can now modify?\n",
    "\n",
    "apes = [\"Gorilla gorilla\", \"Pan troglodytes\",  \"Homo sapiens\"]\n",
    "print(apes)\n",
    "\n",
    "new_apes = apes # change the list name from \"apes\" to \"new_apes\"\n",
    "# print(new_apes)\n",
    "\n",
    "new_apes.append(\"new_species\")\n",
    "print(new_apes)\n",
    "\n",
    "\n",
    "# Let's check if the list apes is still the original list?\n",
    "print(apes)\n",
    "\n"
   ]
  },
  {
   "cell_type": "markdown",
   "metadata": {},
   "source": [
    "<div class = \"alert alert-block alert-danger\">\n",
    "    \n",
    "> By giving the list a new name, you have not created a copy of the list\n",
    "\n",
    "> You've basically just given the list a **nickname**\n",
    "\n",
    "> So when you append something to the new list name, the system automatically applies the changes to BOTH lists"
   ]
  },
  {
   "cell_type": "markdown",
   "metadata": {},
   "source": [
    "> **To create a copy of the list to do new work on, you have to use `.copy()`**"
   ]
  },
  {
   "cell_type": "code",
   "execution_count": 25,
   "metadata": {},
   "outputs": [
    {
     "name": "stdout",
     "output_type": "stream",
     "text": [
      "['Gorilla gorilla', 'Pan troglodytes', 'Homo sapiens']\n",
      "['Gorilla gorilla', 'Pan troglodytes', 'Homo sapiens', 'new_species']\n",
      "['Gorilla gorilla', 'Pan troglodytes', 'Homo sapiens']\n"
     ]
    }
   ],
   "source": [
    "apes = [\"Gorilla gorilla\", \"Pan troglodytes\",  \"Homo sapiens\"]\n",
    "print(apes)\n",
    "\n",
    "\n",
    "newest_apes = apes.copy()\n",
    "newest_apes.append(\"new_species\")\n",
    "print(newest_apes)\n",
    "print(apes)\n",
    "\n",
    "# Let's check if the list apes is still the original list?\n",
    "# print(apes)"
   ]
  },
  {
   "cell_type": "markdown",
   "metadata": {},
   "source": [
    "<h2><center><ins>Quick Hands-on exercise</ins></center></h2>\n"
   ]
  },
  {
   "cell_type": "markdown",
   "metadata": {},
   "source": [
    "**Exercise 3**\n",
    "> Use the **`help ()`** function to find a method that you may use \n",
    "\n",
    "> To add up the number of times you see the element\n",
    "\n",
    "> **human** in the list called **`species = [\"human\", \"fish\", \"human\", \"bear\", \"human\", \"eagle\"]`**"
   ]
  },
  {
   "cell_type": "code",
   "execution_count": null,
   "metadata": {},
   "outputs": [],
   "source": [
    "help (list)"
   ]
  },
  {
   "cell_type": "code",
   "execution_count": 26,
   "metadata": {},
   "outputs": [
    {
     "name": "stdout",
     "output_type": "stream",
     "text": [
      "3\n"
     ]
    }
   ],
   "source": [
    "species = [\"human\", \"fish\", \"human\", \"bear\", \"human\", \"eagle\"]\n",
    "\n",
    "count_humans = species.count(\"human\")\n",
    "\n",
    "print(count_humans)\n"
   ]
  },
  {
   "cell_type": "markdown",
   "metadata": {},
   "source": [
    "**Exercise 4**\n",
    "\n",
    "> Use the **`help ()`** function to find a method that you may use \n",
    "\n",
    "> To add **jaguar** to position **3** of the species list"
   ]
  },
  {
   "cell_type": "code",
   "execution_count": 27,
   "metadata": {},
   "outputs": [
    {
     "name": "stdout",
     "output_type": "stream",
     "text": [
      "['human', 'fish', 'human', 'jaguar', 'bear', 'human', 'eagle']\n"
     ]
    }
   ],
   "source": [
    "species.insert(3, \"jaguar\")\n",
    "print(species)"
   ]
  },
  {
   "cell_type": "markdown",
   "metadata": {},
   "source": [
    "<h2><center><ins>Looping</ins></center></h2>"
   ]
  },
  {
   "cell_type": "markdown",
   "metadata": {},
   "source": [
    "<div class = \"alert alert-block alert-info\">\n",
    "\n",
    "> The process of reading over multiple sets of data, in a somewhat repetitive manner, is called **looping.**\n",
    "\n",
    "> Let's look at the example of the two files again\n",
    "\n",
    "**<center>File 1</center>** \n",
    "\n",
    "|        Gene              |                 SNP          |\n",
    "|--------------------      |------------------------------|                \n",
    "|    <center>TP53</center> | <center>**rs54** </center>   |\n",
    "|    <center>TP53</center> | <center>rs111<center>        |    \n",
    "|    <center>TP53</center> | <center>rs1081</center>      | \n",
    "|    <center>TP53</center> | <center>**rs5099** </center> |  \n",
    "    \n",
    "<br><br>    \n",
    "**<center>File 2</center>** \n",
    "\n",
    "| Gene                 |          SNP                     |\n",
    "|--------------------  |----------------------------------|                \n",
    "|<center>TP53</center> |  <center>rs19</center>           |\n",
    "|<center>TP53</center> | <center>**rs54**</center>        |  \n",
    "|<center>TP53</center> | <center>**rs5099** </center>     |\n",
    "|<center>TP53</center> | <center>rs7878</center>          |  \n",
    "    \n",
    "\n",
    "> In this case, we would read the SNP in **Line 1** in **File 1** and compare it to the SNPs in **Lines 1, 2 and 3** in the second file.\n",
    "\n",
    "> Then we may read the SNPs **Line 2** of **File 1** and compare it to all the SNPs in **File 2**\n",
    "\n",
    "> We would do this until we are sure that we've compared all the lSNPs of **File 1** to those in **File 2**\n",
    "\n",
    "> With Python, you could use something known as the **`for loop`** to do this automatically, quickly and in an error-free manner.\n",
    "\n",
    "> But in this case, we will not use this example, because we haven't done **Conditionals** yet. We will see the full power of **looping** once we combine it with this next chapter.\n",
    "\n",
    "> For now, let's look at how we can use **looping** with **lists**\n"
   ]
  },
  {
   "cell_type": "markdown",
   "metadata": {},
   "source": [
    "<div class = \"alert alert-block alert-info\">\n",
    "    \n",
    "> Before we look at the `for` loop, it's worth noting, that just as with strings\n",
    "\n",
    "> You can use **`in`** to check if an element is in your list"
   ]
  },
  {
   "cell_type": "code",
   "execution_count": 28,
   "metadata": {},
   "outputs": [
    {
     "name": "stdout",
     "output_type": "stream",
     "text": [
      "True\n",
      "False\n"
     ]
    }
   ],
   "source": [
    "species = ['human', 'fish', 'human', 'jaguar', 'bear', 'human', 'eagle']\n",
    "\n",
    "fish = \"fish\" in species\n",
    "\n",
    "bat = \"bat\" in species\n",
    "\n",
    "\n",
    "print(fish)\n",
    "print(bat)"
   ]
  },
  {
   "cell_type": "markdown",
   "metadata": {},
   "source": [
    "<div class = \"alert alert-block alert-info\">\n",
    "    \n",
    "> Now if you had 10 000 species in your list\n",
    "\n",
    "> You wanted to print that each one of those animals is a species\n",
    "\n",
    "> It could take you a long time, it would be error-prone, and not to mention BORING\n",
    "\n",
    "> If you were Excel-savvy, you could do it in Excel\n",
    "\n",
    "> But why not script it\n",
    "\n"
   ]
  },
  {
   "cell_type": "markdown",
   "metadata": {},
   "source": [
    "<div class = \"alert alert-block alert-info\">\n",
    "\n",
    "> By using a **`for`** loop, you can instruct your code to read through each element in your list, from the first element to the last, and do WHATEVER you want to it.\n",
    "\n",
    "> In this case, it will just be the same thing to every element\n",
    "\n",
    "> But once we do **Conditionals** in the next chapter, we can do different things to different elements\n",
    "\n",
    "> The basic structure of a **`for`** loop is \n",
    "\n",
    "> **`for element in list:\n",
    "       do X`**\n",
    "         \n",
    "         \n",
    "> So if you wanted to print that each one of those **elements** is not a computer\n",
    "\n",
    "> You don't have to go:\n",
    "\n",
    "> `Species[0] is not a computer`\n",
    "\n",
    "> `Species[1] is not a computer`\n",
    "\n",
    "> `Species[2] is not a computer`\n",
    "\n",
    "> etc.\n",
    "       \n",
    "> You can simply say:\n"
   ]
  },
  {
   "cell_type": "code",
   "execution_count": 29,
   "metadata": {},
   "outputs": [
    {
     "name": "stdout",
     "output_type": "stream",
     "text": [
      "human is not a computer.\n",
      "fish is not a computer.\n",
      "human is not a computer.\n",
      "jaguar is not a computer.\n",
      "bear is not a computer.\n",
      "human is not a computer.\n",
      "eagle is not a computer.\n"
     ]
    }
   ],
   "source": [
    "species = ['human', 'fish', 'human', 'jaguar', 'bear', 'human', 'eagle']\n",
    "\n",
    "for animal in species:\n",
    "    print (animal, \"is not a computer.\")"
   ]
  },
  {
   "cell_type": "markdown",
   "metadata": {},
   "source": [
    "<div class = \"alert alert-block alert-info\">\n",
    "\n",
    "> A special mention must be made to the format of this loop\n",
    "\n",
    "> Note that the first line ends in a **colon**\n",
    "\n",
    "> And the second line is not printed directly below the first\n",
    "\n",
    "> In Python, once you use a **colon**, the following line must be intented with typically **four spaces** or a **tab**\n",
    "\n",
    "> **NEVER mix spaces and tabs** - Choose one\n",
    "\n",
    "> You IDE should allow you to choose for your tab to be four spaces\n",
    "\n",
    "> These indented lines that follows the line with the colon\n",
    "\n",
    "> Is called a **block** of code\n",
    "\n",
    "> Or the **body** of the loop"
   ]
  },
  {
   "cell_type": "markdown",
   "metadata": {},
   "source": [
    "<div class = \"alert alert-block alert-info\">\n",
    "    \n",
    "> When using a `for` loop, you're basically telling the code, that you will do something \n",
    "\n",
    "> To every element in the list, and you task is not done until you reach the last element\n",
    "\n",
    "> Unlike before when we assigned an object to a variable name, E.g. `animal = \"bear\"`\n",
    "\n",
    "> Now our variable name `animal` has no object assigned to it\n",
    "\n",
    "> Until the `for` loop is initialized\n",
    "\n",
    "> It then takes on the first element in the list `animal[0]`, which is equal to `human`\n",
    "\n",
    "> After it prints, it recognizes that due to it being a `for` loop\n",
    "\n",
    "> It is not yet done, so it goes back into the list and continues with the next element\n",
    "\n",
    "> And then the next, until it reaches `animal[6]` or `animal[-1]`\n",
    "\n",
    "> The last object the variable `animal` will store, will be your last element\n",
    "\n",
    "> So if you exit the `for` loop \n",
    "\n",
    "> By printing on a line in line with the first line of the loop\n",
    "\n",
    "> You will see that `print(animal)` will print out `\"eagle\"`\n",
    "\n"
   ]
  },
  {
   "cell_type": "code",
   "execution_count": 30,
   "metadata": {},
   "outputs": [
    {
     "name": "stdout",
     "output_type": "stream",
     "text": [
      "eagle\n"
     ]
    }
   ],
   "source": [
    "print(animal)"
   ]
  },
  {
   "cell_type": "markdown",
   "metadata": {},
   "source": [
    "<div class = \"alert alert-block alert-info\">\n",
    "\n",
    "> It is worth noting, that because you're working with a list\n",
    "\n",
    "> You can control your `for` loop by using slicing\n",
    "\n",
    "> For example, if you wanted your `for` loop to only print\n",
    "\n",
    "> From `\"fish\"` to `\"bear\"`\n",
    "\n",
    "> You can use the following"
   ]
  },
  {
   "cell_type": "code",
   "execution_count": 33,
   "metadata": {},
   "outputs": [
    {
     "name": "stdout",
     "output_type": "stream",
     "text": [
      "fish is not a computer.\n",
      "human is not a computer.\n",
      "jaguar is not a computer.\n",
      "bear is not a computer.\n"
     ]
    }
   ],
   "source": [
    "# can we slice a list?\n",
    "# what is the variable name of the list in the code below?\n",
    "# Which element is \"fish\"?\n",
    "# Which element is \"bear\"?\n",
    "# what would that slicing look like?\n",
    "\n",
    "species = ['human', 'fish', 'human', 'jaguar', 'bear', 'human', 'eagle']\n",
    "\n",
    "for animal in species [1:5]:\n",
    "    print (animal, \"is not a computer.\")"
   ]
  },
  {
   "cell_type": "markdown",
   "metadata": {},
   "source": [
    "<h2><center><ins>Quick Hands-on exercise</ins></center></h2>"
   ]
  },
  {
   "cell_type": "markdown",
   "metadata": {},
   "source": [
    "> We can give all sorts of instructions inside the block of code\n",
    "\n",
    "> It doesn't have to be just one line following the `for` statement\n",
    "\n",
    "> Let's try giving it some things that we previously learnt\n",
    "\n",
    "> I've written some code at the bottom, which contain a few errors\n",
    "\n",
    "> and some code is redundant\n",
    "\n",
    "> Let's fix it together\n",
    "\n",
    "<br><br>  \n",
    "\n",
    "> First, let's practice reading other people's code\n",
    "\n",
    "> Initially, just read through the code and check if you have an idea of what the code will do\n",
    "\n",
    "> Then let's do some troubleshooting"
   ]
  },
  {
   "cell_type": "code",
   "execution_count": null,
   "metadata": {},
   "outputs": [],
   "source": [
    "species = ['human', 'fish', 'human', 'jaguar', 'bear', 'human', 'eagle']\n",
    "\n",
    "\n",
    "for animal in species[]:\n",
    "    len_animal = len(animal)\n",
    "     print (animal, \"is not a computer.\")\n",
    "    print (animal, \"has a length of\", str(len_animal)\n",
    "    answer_eagle = eagle in species\n",
    "    print (answer_eagle)"
   ]
  },
  {
   "cell_type": "markdown",
   "metadata": {},
   "source": [
    "<div class = \"alert alert-block alert-success\">\n",
    "\n",
    "> `for animal in species[]:`                           # there's nothing inside the brackets to slice\n",
    "\n",
    "> `print (animal, \"is not a computer.\")`               # indentation error due to extra space\n",
    "\n",
    "> `print (animal, \"has a length of\", str(len_animal)`  # the (str) is redundant, because we already use commas \n",
    "\n",
    "> `print (animal, \"has a length of\", str(len_animal)`  # there's also a missing bracket at the end                                                   \n",
    "\n",
    "> `answer_eagle = eagle in species`                    # eagle must be surrounded by quotes, since it's a string\n",
    "\n",
    "> `print (answer_eagle)`                               # the answer to this can be printed outside the loop, since we only need this to be answered ONCE"
   ]
  },
  {
   "cell_type": "code",
   "execution_count": 35,
   "metadata": {},
   "outputs": [
    {
     "name": "stdout",
     "output_type": "stream",
     "text": [
      "human is not a computer.\n",
      "human has a length of 5\n",
      "fish is not a computer.\n",
      "fish has a length of 4\n",
      "human is not a computer.\n",
      "human has a length of 5\n",
      "jaguar is not a computer.\n",
      "jaguar has a length of 6\n",
      "bear is not a computer.\n",
      "bear has a length of 4\n",
      "human is not a computer.\n",
      "human has a length of 5\n",
      "eagle is not a computer.\n",
      "eagle has a length of 5\n",
      "True\n"
     ]
    }
   ],
   "source": [
    "species = ['human', 'fish', 'human', 'jaguar', 'bear', 'human', 'eagle']\n",
    "\n",
    "for animal in species:\n",
    "    len_animal = len(animal)\n",
    "    print (animal, \"is not a computer.\")\n",
    "    print (animal, \"has a length of\", len_animal)\n",
    "    answer_eagle = \"eagle\" in species\n",
    "print (answer_eagle)"
   ]
  },
  {
   "cell_type": "markdown",
   "metadata": {},
   "source": [
    "<h2><center><ins>Using the .split() method </ins></center></h2>"
   ]
  },
  {
   "cell_type": "markdown",
   "metadata": {},
   "source": [
    "<div class = \"alert alert-block alert-info\">\n",
    "\n",
    "> The **`.split ()`** method allows us to turn a string into a list by splitting it on a common character or group of characters, called a **delimiter**\n",
    "\n",
    "> It's important to note that it splits your string at that character, so that character, (in the example below the character is a comma), will be excluded"
   ]
  },
  {
   "cell_type": "code",
   "execution_count": 36,
   "metadata": {},
   "outputs": [
    {
     "name": "stdout",
     "output_type": "stream",
     "text": [
      "['melanogaster', 'simulans', 'yakuba', 'ananassae']\n"
     ]
    }
   ],
   "source": [
    "# Example from book\n",
    "\n",
    "names = \"melanogaster,simulans,yakuba,ananassae\"\n",
    "species = names.split(\",\")\n",
    "print(species)\n"
   ]
  },
  {
   "cell_type": "code",
   "execution_count": 37,
   "metadata": {},
   "outputs": [
    {
     "name": "stdout",
     "output_type": "stream",
     "text": [
      "['ATGATTCGCC', 'GGGCCT', 'GGGGTCCNTT', 'CCGAATCNN']\n"
     ]
    }
   ],
   "source": [
    "dna_sequence = \"ATGATTCGCCAAAAAGGGCCTAAAAAGGGGTCCNTTAAAAACCGAATCNN\"\n",
    "dna_sequences = dna_sequence.split(\"AAAAA\")\n",
    "print(dna_sequences )\n"
   ]
  },
  {
   "cell_type": "markdown",
   "metadata": {},
   "source": [
    "<h2><center><ins>Iterating over lines in a file<ins></center></h2>"
   ]
  },
  {
   "cell_type": "markdown",
   "metadata": {},
   "source": [
    "<div class = \"alert alert-block alert-info\">\n",
    "\n",
    "> We can use the `for` loop to iterate over (loop through) lines a file as well\n",
    "\n",
    "> Previously we used `.read()`, `.readline()`, and `.readlines()`\n",
    "\n",
    "> But when using a for loop, we do **NOT** use any of the `.read..()` methods in combination with it\n",
    "\n",
    "> Consider the `for` loop as doing the **reading**"
   ]
  },
  {
   "cell_type": "code",
   "execution_count": 46,
   "metadata": {},
   "outputs": [
    {
     "name": "stdout",
     "output_type": "stream",
     "text": [
      "ATGGCAATAACCCCCCGTTTCTACTTCTAGAGGAGAAAAGTATTGACAT\n",
      "\n"
     ]
    }
   ],
   "source": [
    "# REMEMBER!!!!\n",
    "# If you're running this from GitHub then, this will work if you just\n",
    "# use the line : dna_file = open(\"dna.txt\")\n",
    "# If you're running this from your own computer, then you need to include the file path\n",
    "# where the file \"dna.txt\" is located\n",
    "\n",
    "# e.g. \"\"/home/your_laptop_name/Desktop/dna.txt\"\n",
    "#\n",
    "dna_file = open(\"/home/tracey/Desktop/dna.txt\")\n",
    "\n",
    "\n",
    "for line in dna_file:\n",
    "    print(line)\n",
    "    break\n"
   ]
  },
  {
   "cell_type": "markdown",
   "metadata": {},
   "source": [
    "<h2><center><ins>The range( ) function <ins></center></h2>"
   ]
  },
  {
   "cell_type": "markdown",
   "metadata": {},
   "source": [
    "> A range represents a series of integers\n",
    "\n",
    "> It can take three arguments **`range(start, stop, step)`**\n",
    "\n",
    "> If only one is given, then that represents the **`range(stop)`**\n",
    "\n",
    "> In fact, let's look at the **`help(range)`**"
   ]
  },
  {
   "cell_type": "code",
   "execution_count": 47,
   "metadata": {},
   "outputs": [
    {
     "name": "stdout",
     "output_type": "stream",
     "text": [
      "Help on class range in module builtins:\n",
      "\n",
      "class range(object)\n",
      " |  range(stop) -> range object\n",
      " |  range(start, stop[, step]) -> range object\n",
      " |  \n",
      " |  Return an object that produces a sequence of integers from start (inclusive)\n",
      " |  to stop (exclusive) by step.  range(i, j) produces i, i+1, i+2, ..., j-1.\n",
      " |  start defaults to 0, and stop is omitted!  range(4) produces 0, 1, 2, 3.\n",
      " |  These are exactly the valid indices for a list of 4 elements.\n",
      " |  When step is given, it specifies the increment (or decrement).\n",
      " |  \n",
      " |  Methods defined here:\n",
      " |  \n",
      " |  __bool__(self, /)\n",
      " |      self != 0\n",
      " |  \n",
      " |  __contains__(self, key, /)\n",
      " |      Return key in self.\n",
      " |  \n",
      " |  __eq__(self, value, /)\n",
      " |      Return self==value.\n",
      " |  \n",
      " |  __ge__(self, value, /)\n",
      " |      Return self>=value.\n",
      " |  \n",
      " |  __getattribute__(self, name, /)\n",
      " |      Return getattr(self, name).\n",
      " |  \n",
      " |  __getitem__(self, key, /)\n",
      " |      Return self[key].\n",
      " |  \n",
      " |  __gt__(self, value, /)\n",
      " |      Return self>value.\n",
      " |  \n",
      " |  __hash__(self, /)\n",
      " |      Return hash(self).\n",
      " |  \n",
      " |  __iter__(self, /)\n",
      " |      Implement iter(self).\n",
      " |  \n",
      " |  __le__(self, value, /)\n",
      " |      Return self<=value.\n",
      " |  \n",
      " |  __len__(self, /)\n",
      " |      Return len(self).\n",
      " |  \n",
      " |  __lt__(self, value, /)\n",
      " |      Return self<value.\n",
      " |  \n",
      " |  __ne__(self, value, /)\n",
      " |      Return self!=value.\n",
      " |  \n",
      " |  __reduce__(...)\n",
      " |      Helper for pickle.\n",
      " |  \n",
      " |  __repr__(self, /)\n",
      " |      Return repr(self).\n",
      " |  \n",
      " |  __reversed__(...)\n",
      " |      Return a reverse iterator.\n",
      " |  \n",
      " |  count(...)\n",
      " |      rangeobject.count(value) -> integer -- return number of occurrences of value\n",
      " |  \n",
      " |  index(...)\n",
      " |      rangeobject.index(value, [start, [stop]]) -> integer -- return index of value.\n",
      " |      Raise ValueError if the value is not present.\n",
      " |  \n",
      " |  ----------------------------------------------------------------------\n",
      " |  Static methods defined here:\n",
      " |  \n",
      " |  __new__(*args, **kwargs) from builtins.type\n",
      " |      Create and return a new object.  See help(type) for accurate signature.\n",
      " |  \n",
      " |  ----------------------------------------------------------------------\n",
      " |  Data descriptors defined here:\n",
      " |  \n",
      " |  start\n",
      " |  \n",
      " |  step\n",
      " |  \n",
      " |  stop\n",
      "\n"
     ]
    }
   ],
   "source": [
    "help (range)"
   ]
  },
  {
   "cell_type": "markdown",
   "metadata": {},
   "source": [
    "<div class = \"alert alert-block alert-info\">\n",
    "    \n",
    "> `range(object)` # an argument is compulsory\n",
    "\n",
    "> `range(stop) -> range object` # it will give you all the integers up until that number\n",
    "\n",
    "> `range(start, stop[, step])` -> range object # it will give you all the objects from the start integer you gave as an argument, up until the stop integer. The **step** can only be used if the **stop** is also used.\n",
    "\n",
    "> Each argument is separated by a comma"
   ]
  },
  {
   "cell_type": "code",
   "execution_count": 48,
   "metadata": {},
   "outputs": [
    {
     "name": "stdout",
     "output_type": "stream",
     "text": [
      "0123456789\n",
      "\n",
      "23456789\n",
      "\n",
      "2468\n",
      "\n"
     ]
    }
   ],
   "source": [
    "for integer in range(10):\n",
    "    print(integer, end = \"\") # the `end = \"\"` just prevents the lines from being printed one below the other\n",
    "print(\"\\n\")    \n",
    "\n",
    "for integer in range(2,10):\n",
    "    print(integer, end = \"\")\n",
    "print(\"\\n\")  \n",
    "    \n",
    "\n",
    "for integer in range(2,10,2):\n",
    "    print(integer, end = \"\")\n",
    "print(\"\\n\")  "
   ]
  },
  {
   "cell_type": "markdown",
   "metadata": {},
   "source": [
    "> Imagine we have a protein sequence:\n",
    "\n",
    "> `protein = \"vlspadktnv\"`\n",
    "\n",
    "> And we want to print out the first three residues, then the first four residues, etc.\n",
    "\n",
    "> We could create a list of all the stop positions for that protein, and print from the start to that stop position"
   ]
  },
  {
   "cell_type": "code",
   "execution_count": 49,
   "metadata": {},
   "outputs": [
    {
     "name": "stdout",
     "output_type": "stream",
     "text": [
      "vls\n",
      "vlsp\n",
      "vlspa\n",
      "vlspad\n",
      "vlspadk\n",
      "vlspadkt\n",
      "vlspadktn\n",
      "vlspadktnv\n"
     ]
    }
   ],
   "source": [
    "protein = \"vlspadktnv\"\n",
    "\n",
    "stop_positions = [3,4,5,6,7,8,9,10]\n",
    "\n",
    "for stop_position in stop_positions:\n",
    "    mini_protein = protein[0:stop_position]\n",
    "    print(mini_protein)"
   ]
  },
  {
   "cell_type": "code",
   "execution_count": 50,
   "metadata": {},
   "outputs": [
    {
     "name": "stdout",
     "output_type": "stream",
     "text": [
      "vls\n",
      "vlsp\n",
      "vlspa\n",
      "vlspad\n",
      "vlspadk\n",
      "vlspadkt\n",
      "vlspadktn\n",
      "vlspadktnv\n"
     ]
    }
   ],
   "source": [
    "# But if this protein was really long, you don't want to type all the stop positions\n",
    "# So you could use the range ( ) function\n",
    "\n",
    "protein = \"vlspadktnv\"\n",
    "\n",
    "stop_positions = range (3,11) \n",
    "# remember, the range is a set of integers\n",
    "# So it's >=3 integer < 11 \n",
    "\n",
    "for stop_position in stop_positions:\n",
    "    mini_protein = protein[0:stop_position]\n",
    "    print(mini_protein)"
   ]
  },
  {
   "cell_type": "markdown",
   "metadata": {},
   "source": [
    "<h2><center><ins>Nested Loops<ins></center></h2>"
   ]
  },
  {
   "cell_type": "markdown",
   "metadata": {},
   "source": [
    "> A nested loop is a **loop within a loop**\n",
    "\n",
    "> We will not go into much detail about this\n",
    "\n",
    "> But we'll see it's uses become more apparent with the next chapter\n",
    "\n",
    "> This is just a foretaste of what's coming\n",
    "\n",
    "> But can you see how this might be useful?"
   ]
  },
  {
   "cell_type": "code",
   "execution_count": 7,
   "metadata": {},
   "outputs": [
    {
     "name": "stdout",
     "output_type": "stream",
     "text": [
      "Ray get's a car\n",
      "Ray get's a house\n",
      "Ray get's a holiday\n",
      "Shay get's a car\n",
      "Shay get's a house\n",
      "Shay get's a holiday\n",
      "Kay get's a car\n",
      "Kay get's a house\n",
      "Kay get's a holiday\n"
     ]
    }
   ],
   "source": [
    "names = [\"Ray\", \"Shay\", \"Kay\"]\n",
    "prizes = [\"car\", \"house\", \"holiday\"]\n",
    "\n",
    "for name in names:\n",
    "    for prize in prizes:\n",
    "        print(name, \"get's a\", prize)\n",
    "    "
   ]
  },
  {
   "cell_type": "markdown",
   "metadata": {},
   "source": [
    "<h2><center><ins>Exercises from Python for Biologists<ins></center></h2>"
   ]
  },
  {
   "cell_type": "markdown",
   "metadata": {},
   "source": [
    "***Exercise 1: Processing DNA in a file***\n",
    "<br><br> \n",
    "\n",
    "The file **input.txt** contains a number of DNA sequences, one per line. \n",
    "\n",
    "Each sequence starts with the same 14 base pair fragment – a sequencing adapter that should have been removed. \n",
    "<br><br>  \n",
    "\n",
    "\n",
    "Write a program that will:\n",
    "\n",
    "**(a)** trim this adapter and write the cleaned sequences to a new file and \n",
    "\n",
    "**(b)** print the length of each sequence to the screen."
   ]
  },
  {
   "cell_type": "code",
   "execution_count": 4,
   "metadata": {},
   "outputs": [
    {
     "name": "stdout",
     "output_type": "stream",
     "text": [
      "43\n",
      "38\n",
      "49\n",
      "34\n",
      "48\n"
     ]
    }
   ],
   "source": [
    "###############\n",
    "# Solution 1 #\n",
    "###############\n",
    "\n",
    "# REMEMBER!!!!\n",
    "# If you're running this from GitHub then, this will work\n",
    "# If you're running this from your own computer, then you need to include the file path\n",
    "# where the file \"dna.txt\" is located\n",
    "\n",
    "# e.g. \"\"/home/your_laptop_name/Desktop/dna.txt\"\n",
    "\n",
    "\n",
    "with open(\"input.txt\") as input_file,\\\n",
    "    open(\"adapter_trimmed_sequences.txt\", \"w\") as out_file: \n",
    "\n",
    "    for line in input_file:\n",
    "        # because indexing starts at 0, so positions 0 -> 13 are the first 14 nucleotides\n",
    "        # and position 14, is the nucleotide after the adapter\n",
    "        newline = line.strip()[14:] \n",
    "        out_line = newline + \"\\n\"\n",
    "#         print(out_line)\n",
    "        out_file.write(out_line)\n",
    "        print(len(out_line))\n",
    "   "
   ]
  },
  {
   "cell_type": "markdown",
   "metadata": {},
   "source": [
    "***Exercise 2: Multiple exons from genomic DNA***\n",
    "<br><br> \n",
    "\n",
    "The file **genomic_dna.txt** contains a section of genomic DNA, and the file **exons.txt**\n",
    "contains a list of start/stop positions of exons. \n",
    "\n",
    "Each exon is on a separate line and the start and stop positions are separated by a comma. \n",
    "\n",
    "Write a program that will extract the exon segments, concatenate them, and write them to a new file."
   ]
  },
  {
   "cell_type": "code",
   "execution_count": null,
   "metadata": {},
   "outputs": [],
   "source": [
    "###############\n",
    "# Solution 2a #\n",
    "###############\n",
    "\n",
    "genomic_dna_file = open(\"genomic_dna.txt\")\n",
    "exons_file = open(\"exons.txt\")\n",
    "combined_exons_file = open(\"combined_exons.txt\", \"w\")\n",
    "\n",
    "# Below: you want to concatenate, but you can' stick something to something that does not exist\n",
    "# So create an empty string called \"combined_exons\"\n",
    "# so that something exist that we can attach to\n",
    "\n",
    "combined_exons = \"\"\n",
    "\n",
    "#########################\n",
    "# Format exon file BELOW\n",
    "\n",
    "# 5,58\n",
    "# 72,133\n",
    "\n",
    "########################\n",
    "\n",
    "genomic_dna = genomic_dna_file.read()\n",
    "\n",
    "for exons in exons_file:\n",
    "    exons = exons.strip()\n",
    "    start = int(exons.split(\",\")[0])   \n",
    "    end = int(exons.split(\",\")[1])\n",
    "    exon = genomic_dna[start:end]    \n",
    "    combined_exons = combined_exons + exon \n",
    "   \n",
    "   # print(combined_exons)\n",
    "\n",
    "combined_exons_file.write(combined_exons)\n",
    "exons_file.close()\n",
    "combined_exons_file.close()\n"
   ]
  },
  {
   "cell_type": "code",
   "execution_count": null,
   "metadata": {},
   "outputs": [],
   "source": [
    "###############\n",
    "# Solution 2b #\n",
    "###############\n",
    "\n",
    "with open(\"genomic_dna.txt\") as genomic_dna_file,\\\n",
    "    open(\"exons.txt\") as exons_file,\\\n",
    "        open(\"combined_exons.txt\", \"w\") as combined_exons_file: \n",
    "\n",
    "    genomic_dna = genomic_dna_file.read()\n",
    "\n",
    "    combined_exons = \"\"\n",
    "    for exons in exons_file:\n",
    "        start = int(exons.strip().split(\",\")[0])\n",
    "        end = int(exons.strip().split(\",\")[1])\n",
    "        exon = genomic_dna[start:end]\n",
    "        combined_exons = combined_exons + exon # you want to concatenate, but you can' stick somethig to something that doest exit\n",
    "    # print(combined_exons)\n",
    "\n",
    "    combined_exons_file.write(combined_exons)\n"
   ]
  },
  {
   "cell_type": "markdown",
   "metadata": {},
   "source": [
    "***Exercise 3: Processing DNA in a file***\n",
    "\n",
    "The file **input.txt** contains a number of DNA sequences, one per line.\n",
    "\n",
    "Each sequence starts with the same 14 base pair fragment – a sequencing adapter that should have been removed.\n",
    "\n",
    "Write a program that will:\n",
    "\n",
    "a) trim this adapter and \n",
    "b) write **EACH** cleaned **sequence** to their **own file**"
   ]
  },
  {
   "cell_type": "code",
   "execution_count": 5,
   "metadata": {},
   "outputs": [
    {
     "name": "stdout",
     "output_type": "stream",
     "text": [
      "file_1\n",
      "file_2\n",
      "file_3\n",
      "file_4\n",
      "file_5\n"
     ]
    }
   ],
   "source": [
    "###############\n",
    "# Solution 3 #\n",
    "###############\n",
    "\n",
    "\n",
    "###########################################################################\n",
    "# no output file names are given, and this is often the case in real life\n",
    "# So we have to be creative about how we will assign these file names\n",
    "##########################################################################\n",
    "\n",
    "input_file = open(\"input.txt\")\n",
    "\n",
    "############################################################################\n",
    "#This output file CANNOT be opened and written to here\n",
    "# because we do NOT want all the sequences printed to the same file\n",
    "############################################################################\n",
    "\n",
    "\n",
    "line_number = 0    # start an increment so that you can count up   \n",
    "\n",
    "for line in input_file:\n",
    "    newline = line.strip()[14:] # because 14 is element 15\n",
    "    line_number = line_number + 1      # line_number += 1 (the same)\n",
    "    file_name = \"file_\" + str(line_number)\n",
    "#     print(file_name)\n",
    "    out_file = open(file_name, \"w\")\n",
    "    out_line = newline \n",
    "    out_file.write(out_line)\n",
    "\n",
    "\n",
    "input_file.close()\n",
    "out_file.close()\n",
    "    "
   ]
  },
  {
   "cell_type": "code",
   "execution_count": 6,
   "metadata": {},
   "outputs": [],
   "source": [
    "###############\n",
    "# Solution 4 #\n",
    "###############\n",
    "\n",
    "# Now let's pretend that the first 9 nucleotides in the sequence are actually unique\n",
    "# We can then also use that as a file name\n",
    "# Often times it's a bit easier than these two examples, because you usually read in multiple files\n",
    "# such as multiple vcf files within a directory\n",
    "# and these vcf files usually have unique names\n",
    "# so you could just use the input file name to create the output file name with a slight tweak\n",
    "# Here we have just one input file, so we have to improvise\n",
    "\n",
    "\n",
    "input_file = open(\"input.txt\")\n",
    "\n",
    "for line in input_file:\n",
    "    newline = line.strip()[14:] # because 14 is element 15\n",
    "\n",
    "#########################################    \n",
    "# Let's print these files to the Desktop\n",
    "#########################################\n",
    "    file_name = newline[:9] + \".txt\" #pretend the first 9 nucleotides are unique\n",
    "#     print(file_name)\n",
    "    out_file_dir =  \"/home/tracey/Desktop/\" + file_name #add your own directory here\n",
    "#     \"/home/tracey/Desktop/TCGATCGAT.txt\" \n",
    "    \n",
    "#     print (out_file_dir)\n",
    "    out_file = open(out_file_dir, \"w\")\n",
    "\n",
    "    out_file.write(newline)\n",
    "\n",
    "\n",
    "\n",
    "input_file.close()\n",
    "out_file.close()"
   ]
  }
 ],
 "metadata": {
  "kernelspec": {
   "display_name": "Python 3",
   "language": "python",
   "name": "python3"
  },
  "language_info": {
   "codemirror_mode": {
    "name": "ipython",
    "version": 3
   },
   "file_extension": ".py",
   "mimetype": "text/x-python",
   "name": "python",
   "nbconvert_exporter": "python",
   "pygments_lexer": "ipython3",
   "version": "3.7.3"
  }
 },
 "nbformat": 4,
 "nbformat_minor": 2
}
